{
 "cells": [
  {
   "cell_type": "code",
   "execution_count": 1,
   "metadata": {},
   "outputs": [
    {
     "name": "stdout",
     "output_type": "stream",
     "text": [
      "Hello, world.\n"
     ]
    },
    {
     "data": {
      "text/plain": [
       "undefined"
      ]
     },
     "execution_count": 1,
     "metadata": {},
     "output_type": "execute_result"
    }
   ],
   "source": [
    "console.log(`Hello, world.`)"
   ]
  },
  {
   "cell_type": "code",
   "execution_count": 2,
   "metadata": {},
   "outputs": [
    {
     "ename": "Error",
     "evalue": "Oh noes!",
     "output_type": "error",
     "traceback": [
      "evalmachine.<anonymous>:1",
      "throw new Error(\"Oh noes!\");",
      "^",
      "",
      "Error: Oh noes!",
      "    at evalmachine.<anonymous>:1:7",
      "    at ContextifyScript.Script.runInThisContext (vm.js:50:33)",
      "    at Object.runInThisContext (vm.js:139:38)",
      "    at run ([eval]:1002:15)",
      "    at onRunRequest ([eval]:829:18)",
      "    at onMessage ([eval]:789:13)",
      "    at emitTwo (events.js:126:13)",
      "    at process.emit (events.js:214:7)",
      "    at emit (internal/child_process.js:772:12)",
      "    at _combinedTickCallback (internal/process/next_tick.js:141:11)"
     ]
    }
   ],
   "source": [
    "throw new Error(\"Oh noes!\");"
   ]
  },
  {
   "cell_type": "code",
   "execution_count": 5,
   "metadata": {},
   "outputs": [
    {
     "data": {
      "text/plain": [
       "Hello, world."
      ]
     },
     "execution_count": 5,
     "metadata": {},
     "output_type": "execute_result"
    }
   ],
   "source": [
    "$$.text(`Hello, world.`)"
   ]
  },
  {
   "cell_type": "code",
   "execution_count": 6,
   "metadata": {},
   "outputs": [
    {
     "data": {
      "text/html": [
       "<div style='background-color:olive;width:50px;height:50px'></div>"
      ]
     },
     "execution_count": 6,
     "metadata": {},
     "output_type": "execute_result"
    }
   ],
   "source": [
    "$$.html(\"<div style='background-color:olive;width:50px;height:50px'></div>\");"
   ]
  },
  {
   "cell_type": "code",
   "execution_count": 7,
   "metadata": {},
   "outputs": [
    {
     "data": {
      "image/svg+xml": [
       "<svg><rect width=80 height=80 style='fill: orange;'/></svg>"
      ]
     },
     "execution_count": 7,
     "metadata": {},
     "output_type": "execute_result"
    }
   ],
   "source": [
    "$$.svg(\"<svg><rect width=80 height=80 style='fill: orange;'/></svg>\");"
   ]
  },
  {
   "cell_type": "code",
   "execution_count": 9,
   "metadata": {},
   "outputs": [
    {
     "ename": "Error",
     "evalue": "ENOENT: no such file or directory, open 'C:\\Users\\JiboAdmin\\github\\jupyter-notebook-sox\\logo.png'",
     "output_type": "error",
     "traceback": [
      "fs.js:646",
      "  return binding.open(pathModule._makeLong(path), stringToFlags(flags), mode);",
      "                 ^",
      "",
      "Error: ENOENT: no such file or directory, open 'C:\\Users\\JiboAdmin\\github\\jupyter-notebook-sox\\logo.png'",
      "    at Object.fs.openSync (fs.js:646:18)",
      "    at Object.fs.readFileSync (fs.js:551:33)",
      "    at evalmachine.<anonymous>:1:11",
      "    at ContextifyScript.Script.runInThisContext (vm.js:50:33)",
      "    at Object.runInThisContext (vm.js:139:38)",
      "    at run ([eval]:1002:15)",
      "    at onRunRequest ([eval]:829:18)",
      "    at onMessage ([eval]:789:13)",
      "    at emitTwo (events.js:126:13)",
      "    at process.emit (events.js:214:7)"
     ]
    }
   ],
   "source": [
    "import * as fs from \"fs\";\n",
    "$$.png(fs.readFileSync(\"logo.png\").toString(\"base64\"));"
   ]
  },
  {
   "cell_type": "code",
   "execution_count": 10,
   "metadata": {},
   "outputs": [
    {
     "data": {
      "text/html": [
       "<div style='background-color:olive;width:50px;height:50px'></div>"
      ]
     },
     "execution_count": 10,
     "metadata": {},
     "output_type": "execute_result"
    }
   ],
   "source": [
    "$$.mime({\"text/html\": \"<div style='background-color:olive;width:50px;height:50px'></div>\"});"
   ]
  },
  {
   "cell_type": "code",
   "execution_count": 11,
   "metadata": {},
   "outputs": [
    {
     "data": {
      "text/plain": [
       "undefined"
      ]
     },
     "execution_count": 11,
     "metadata": {},
     "output_type": "execute_result"
    },
    {
     "name": "stdout",
     "output_type": "stream",
     "text": [
      "5\n",
      "4\n",
      "3\n",
      "2\n",
      "1\n",
      "0\n"
     ]
    },
    {
     "name": "stderr",
     "output_type": "stream",
     "text": [
      "Done!\n"
     ]
    }
   ],
   "source": [
    "class Counter {\n",
    "    private _n: number = 1;\n",
    "    private _intervalObject: any;\n",
    "\n",
    "    start(n: number, millisec: number){\n",
    "        this._n = n;\n",
    "        this._intervalObject = setInterval(() => {\n",
    "            console.log(this._n--);\n",
    "            if(this._n < 0){\n",
    "                clearInterval(this._intervalObject);\n",
    "                console.warn(\"Done!\");\n",
    "            }\n",
    "        }, millisec);\n",
    "    }\n",
    "}\n",
    "\n",
    "let c = new Counter();\n",
    "c.start(5, 1000);"
   ]
  },
  {
   "cell_type": "code",
   "execution_count": 12,
   "metadata": {},
   "outputs": [
    {
     "name": "stdout",
     "output_type": "stream",
     "text": [
      "Hello!\n"
     ]
    },
    {
     "data": {
      "text/plain": [
       "'And good bye!'"
      ]
     },
     "execution_count": 12,
     "metadata": {},
     "output_type": "execute_result"
    }
   ],
   "source": [
    "$$async$$ = true;\n",
    "\n",
    "console.log(\"Hello!\");\n",
    "\n",
    "setTimeout(\n",
    "    () => {\n",
    "        $$done$$(\"And good bye!\");\n",
    "    },\n",
    "    1000\n",
    ");"
   ]
  },
  {
   "cell_type": "code",
   "execution_count": 13,
   "metadata": {},
   "outputs": [
    {
     "name": "stdout",
     "output_type": "stream",
     "text": [
      "Hello!\n"
     ]
    },
    {
     "data": {
      "image/svg+xml": [
       "<svg><circle cx='30px' cy='30px' r='20px'/></svg>"
      ]
     },
     "execution_count": 13,
     "metadata": {},
     "output_type": "execute_result"
    }
   ],
   "source": [
    "$$async$$ = true;\n",
    "\n",
    "console.log(\"Hello!\");\n",
    "\n",
    "setTimeout(\n",
    "    () => {\n",
    "        $$.svg(\"<svg><circle cx='30px' cy='30px' r='20px'/></svg>\");\n",
    "        $$done$$();\n",
    "    },\n",
    "    1000\n",
    ");"
   ]
  },
  {
   "cell_type": "code",
   "execution_count": 14,
   "metadata": {},
   "outputs": [
    {
     "data": {
      "text/plain": [
       "undefined"
      ]
     },
     "execution_count": 14,
     "metadata": {},
     "output_type": "execute_result"
    }
   ],
   "source": [
    "class Surface{\n",
    "    texture: string;\n",
    "}\n",
    "\n",
    "let x = new Surface();"
   ]
  },
  {
   "cell_type": "code",
   "execution_count": null,
   "metadata": {},
   "outputs": [],
   "source": [
    "x."
   ]
  }
 ],
 "metadata": {
  "kernelspec": {
   "display_name": "Typescript 2.9",
   "language": "typescript",
   "name": "typescript"
  },
  "language_info": {
   "file_extension": ".ts",
   "mimetype": "text/x-typescript",
   "name": "typescript",
   "version": "2.9.2"
  }
 },
 "nbformat": 4,
 "nbformat_minor": 2
}
