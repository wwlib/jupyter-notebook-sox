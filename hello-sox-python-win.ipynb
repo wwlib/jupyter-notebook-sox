{
 "cells": [
  {
   "cell_type": "code",
   "execution_count": 44,
   "metadata": {},
   "outputs": [
    {
     "name": "stdout",
     "output_type": "stream",
     "text": [
      "Hello, sox.\n"
     ]
    }
   ],
   "source": [
    "print(\"Hello, sox.\")"
   ]
  },
  {
   "cell_type": "code",
   "execution_count": 42,
   "metadata": {},
   "outputs": [
    {
     "name": "stdout",
     "output_type": "stream",
     "text": [
      "b'sox:      SoX v14.4.2\\r\\n'\n"
     ]
    }
   ],
   "source": [
    "from subprocess import Popen, PIPE\n",
    " \n",
    "process = Popen(['sox', '--version'], stdout=PIPE, stderr=PIPE)\n",
    "stdout, stderr = process.communicate()\n",
    "print (stdout)"
   ]
  },
  {
   "cell_type": "code",
   "execution_count": 43,
   "metadata": {},
   "outputs": [
    {
     "name": "stdout",
     "output_type": "stream",
     "text": [
      "b''\n"
     ]
    }
   ],
   "source": [
    "from subprocess import Popen, PIPE\n",
    " \n",
    "process = Popen(['sox', 'audio/synth.wav', '-t', 'waveaudio', 'default'], stdout=PIPE, stderr=PIPE)\n",
    "stdout, stderr = process.communicate()\n",
    "print (stdout)"
   ]
  },
  {
   "cell_type": "code",
   "execution_count": 25,
   "metadata": {},
   "outputs": [
    {
     "name": "stdout",
     "output_type": "stream",
     "text": [
      "b''\n"
     ]
    }
   ],
   "source": [
    "from subprocess import Popen, PIPE\n",
    " \n",
    "process = Popen(['sox', '−r', '8000', '−n', '-t', 'waveaudio', 'default', 'synth', '3', 'sine', '300−3300'], stdout=PIPE, stderr=PIPE)\n",
    "stdout, stderr = process.communicate()\n",
    "print (stdout)"
   ]
  },
  {
   "cell_type": "code",
   "execution_count": 26,
   "metadata": {},
   "outputs": [
    {
     "name": "stdout",
     "output_type": "stream",
     "text": [
      "b''\n"
     ]
    }
   ],
   "source": [
    "from subprocess import Popen, PIPE\n",
    " \n",
    "process = Popen(['sox', '−r', '8000', '−n', 'audio/output.wav', 'synth', '3', 'sine', '300−3300'], stdout=PIPE, stderr=PIPE)\n",
    "stdout, stderr = process.communicate()\n",
    "print (stdout)"
   ]
  },
  {
   "cell_type": "code",
   "execution_count": 28,
   "metadata": {},
   "outputs": [
    {
     "name": "stdout",
     "output_type": "stream",
     "text": [
      "b''\n"
     ]
    }
   ],
   "source": [
    "from subprocess import Popen, PIPE\n",
    " \n",
    "process = Popen(['sox', 'audio/output.wav', '-t', 'waveaudio', 'default'], stdout=PIPE, stderr=PIPE)\n",
    "stdout, stderr = process.communicate()\n",
    "print (stdout)"
   ]
  },
  {
   "cell_type": "code",
   "execution_count": 30,
   "metadata": {},
   "outputs": [
    {
     "name": "stdout",
     "output_type": "stream",
     "text": [
      "b''\n"
     ]
    }
   ],
   "source": [
    "from subprocess import Popen, PIPE\n",
    " \n",
    "process = Popen(['sox', '-b', '16', '--endian', 'little', '-c', '1', '-r', '16000', '-e', 'signed-integer', '-t', 'waveaudio', 'default', 'audio/microphone.wav', 'trim', '0', '6'], stdout=PIPE, stderr=PIPE)\n",
    "stdout, stderr = process.communicate()\n",
    "print (stdout)"
   ]
  },
  {
   "cell_type": "code",
   "execution_count": 38,
   "metadata": {},
   "outputs": [],
   "source": [
    "from subprocess import Popen, PIPE\n",
    " \n",
    "process = Popen(['sox', '-b', '16', '--endian', 'little', '-c', '1', '-r', '16000', '-e', 'signed-integer', '-t', 'waveaudio', 'default', '-t', 'wav', '-', 'trim', '0', '6'], stdout=PIPE, stderr=PIPE)\n",
    "stdout, stderr = process.communicate()\n",
    "    \n",
    "with open('audio/piped.wav', 'wb') as output_file:\n",
    "    output_file.write(stdout)"
   ]
  },
  {
   "cell_type": "code",
   "execution_count": 1,
   "metadata": {},
   "outputs": [
    {
     "name": "stdout",
     "output_type": "stream",
     "text": [
      "b''\n"
     ]
    }
   ],
   "source": [
    "from subprocess import Popen, PIPE\n",
    " \n",
    "process = Popen(['sox', 'audio/piped.wav', '-t', 'waveaudio', 'default'], stdout=PIPE, stderr=PIPE)\n",
    "stdout, stderr = process.communicate()\n",
    "print (stdout)"
   ]
  }
 ],
 "metadata": {
  "kernelspec": {
   "display_name": "Python 3",
   "language": "python",
   "name": "python3"
  },
  "language_info": {
   "codemirror_mode": {
    "name": "ipython",
    "version": 3
   },
   "file_extension": ".py",
   "mimetype": "text/x-python",
   "name": "python",
   "nbconvert_exporter": "python",
   "pygments_lexer": "ipython3",
   "version": "3.6.5"
  }
 },
 "nbformat": 4,
 "nbformat_minor": 2
}
